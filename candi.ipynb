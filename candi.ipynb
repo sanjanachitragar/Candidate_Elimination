{
  "nbformat": 4,
  "nbformat_minor": 0,
  "metadata": {
    "colab": {
      "provenance": []
    },
    "kernelspec": {
      "name": "python3",
      "display_name": "Python 3"
    },
    "language_info": {
      "name": "python"
    }
  },
  "cells": [
    {
      "cell_type": "code",
      "execution_count": null,
      "metadata": {
        "colab": {
          "base_uri": "https://localhost:8080/"
        },
        "id": "-HucIU7WVjoG",
        "outputId": "8bac40d4-f2a1-4173-a6a0-4f8d6c6b48df"
      },
      "outputs": [
        {
          "output_type": "stream",
          "name": "stdout",
          "text": [
            "specific=Sunny\n",
            "specific=Warm\n",
            "specific=?\n",
            "specific=Strong\n",
            "specific=Warm\n",
            "specific=Same\n",
            "Final S:\n",
            "['Sunny' 'Warm' '?' 'Strong' '?' '?']\n",
            "Final G:\n",
            "[['Sunny', '?', '?', '?', '?', '?'], ['?', 'Warm', '?', '?', '?', '?']]\n"
          ]
        }
      ],
      "source": [
        "import pandas as pd\n",
        "\n",
        "# Loading Data from a CSV File\n",
        "data = pd.DataFrame(data=pd.read_csv('2ce.csv'))\n",
        "\n",
        "# Separating concept features from Target\n",
        "concepts = data.iloc[:,0:-1].values                     # all rows and all columns except the last column (target column).\n",
        "\n",
        "# Isolating target into a separate DataFrame\n",
        "target =data.iloc[:,-1].values\n",
        "\n",
        "def learn(concepts, target):\n",
        "  specific_h = concepts[0].copy()                                                               # specific_h is initialized as a copy of the first concept in concepts.\n",
        "  general_h = [[\"?\" for i in range(len(specific_h))] for i in range(len(specific_h))]    #general_h is initialized as a 2D list filled with '?' values, with the same shape as specific_h.\n",
        "\n",
        "  # The learning iterations\n",
        "  for i, h in enumerate(concepts):                                      # iterates over each index i and corresponding concept h in concepts.\n",
        "\n",
        "    # Checking if the hypothesis has a positive target\n",
        "    if target[i] == \"Yes\":\n",
        "\n",
        "      for x in range(len(specific_h)):                             # thn, algorithm checks each attribute value in h against the corresponding value in specific_h.\n",
        "\n",
        "        # Change values in S & G only if values change\n",
        "        if h[x] != specific_h[x]:                               #If they differ,\n",
        "          specific_h[x] = '?'                                          #the value in specific_h is set to '?', indicating that it should be more general.\n",
        "          general_h[x][x] = '?'                                        #The same value in general_h is also set to '?'.\n",
        "\n",
        "    # Checking if the hypothesis has a positive target\n",
        "    if target[i] == \"No\":\n",
        "\n",
        "      for x in range(len(specific_h)):                             #thn, algorithm checks each attribute value in h against the corresponding value in specific_h.\n",
        "        print(f\"specific={specific_h[x]}\")\n",
        "        # For negative hyposthesis change values only in G\n",
        "\n",
        "        if h[x] != specific_h[x]:                             #If they differ,\n",
        "          general_h[x][x] = specific_h[x]                              #the value in general_h is updated to match the value in specific_h.\n",
        "        else:\n",
        "          general_h[x][x] = '?'                                        #Otherwise, the value in general_h is set to '?'.\n",
        "\n",
        "  # find indices where we have empty rows, meaning those that are unchanged\n",
        "  indices = [i for i,val in enumerate(general_h) if val == ['?', '?', '?', '?', '?', '?']]   #After learning iterations,algo identifies rows in general_h that contain only '?' values\n",
        "  for i in indices:\n",
        "    # remove those rows from general_h\n",
        "    general_h.remove(['?', '?', '?', '?', '?', '?'])                             # and removes them. These rows represent unchanged hypotheses and are not included in final general_h.\n",
        "\n",
        "  # Return final values\n",
        "  return specific_h, general_h\n",
        "\n",
        "s_final, g_final = learn(concepts, target)\n",
        "print(\"Final S:\", s_final, sep=\"\\n\")\n",
        "print(\"Final G:\", g_final, sep=\"\\n\")"
      ]
    }
  ]
}